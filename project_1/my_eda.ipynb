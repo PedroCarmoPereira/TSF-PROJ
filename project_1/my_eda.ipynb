{
 "cells": [
  {
   "cell_type": "code",
   "execution_count": null,
   "id": "c5a74573",
   "metadata": {},
   "outputs": [],
   "source": [
    "import pandas as pd\n",
    "import numpy as np\n",
    "import matplotlib.pyplot as plt\n",
    "import matplotlib.dates as mdates\n",
    "import statsmodels.api as sm\n",
    "import seaborn as sns\n",
    "import os\n",
    "from statsmodels.nonparametric.smoothers_lowess import lowess"
   ]
  },
  {
   "cell_type": "markdown",
   "id": "4f8e9cec",
   "metadata": {},
   "source": [
    "# Load & Process Data"
   ]
  },
  {
   "cell_type": "code",
   "execution_count": null,
   "id": "24a9a553",
   "metadata": {},
   "outputs": [],
   "source": [
    "prec_data = pd.read_csv(os.path.join('data', 'prec-Mainland-raw.csv'))\n",
    "prec_data = prec_data.melt(id_vars=[\"year\"], var_name=\"month_str\", value_name=\"prec\")\n",
    "prec_data.head()\n",
    "\n",
    "month_map = {'Jan':1, 'Feb':2, 'Mar':3, 'Apr':4, 'May':5, 'Jun':6,\n",
    "             'Jul':7, 'Aug':8, 'Sep':9, 'Oct':10, 'Nov':11, 'Dec':12}\n",
    "\n",
    "prec_data[\"month\"] = prec_data[\"month_str\"].map(month_map)\n",
    "\n",
    "# Build datetime column (use first day of month as convention)\n",
    "prec_data[\"date\"] = pd.to_datetime(dict(year=prec_data[\"year\"], \n",
    "                                       month=prec_data[\"month\"], \n",
    "                                       day=1))\n",
    "prec_data.head()"
   ]
  },
  {
   "cell_type": "code",
   "execution_count": null,
   "id": "3d8726e0",
   "metadata": {},
   "outputs": [],
   "source": [
    "inverse_month_map = {v:k for k,v in month_map.items()}\n",
    "inverse_month_map"
   ]
  },
  {
   "cell_type": "code",
   "execution_count": null,
   "id": "f53fda76",
   "metadata": {},
   "outputs": [],
   "source": [
    "# Taken from https://www.ipma.pt/en/oclima/series.longas/?loc=Mainland&type=raw\n",
    "temp_data = pd.read_csv(os.path.join('data', 'temp-Mainland-raw.csv'))\n",
    "temp_data['month'] = temp_data['date'].str.extract(r'([0-9]{2})')\n",
    "temp_data['year'] = temp_data['date'].str.extract(r'([0-9]{4})')\n",
    "temp_data['month'] = pd.to_numeric(temp_data['month'])\n",
    "temp_data['year'] = pd.to_numeric(temp_data['year'])\n",
    "temp_data['date'] = pd.to_datetime(temp_data['date'], format='%m/%Y')\n",
    "temp_data.head()"
   ]
  },
  {
   "cell_type": "code",
   "execution_count": null,
   "id": "96a96b25",
   "metadata": {},
   "outputs": [],
   "source": [
    "full_data = pd.merge(temp_data, prec_data[[\"date\", \"prec\"]], \n",
    "                  on=\"date\", how=\"inner\")\n",
    "full_data['month_str'] = full_data['month'].map(inverse_month_map)\n",
    "\n",
    "full_data['tdiff'] = full_data['tmax'] - full_data['tmin']\n",
    "\n",
    "full_data.head()"
   ]
  },
  {
   "cell_type": "code",
   "execution_count": null,
   "id": "eb82446a",
   "metadata": {},
   "outputs": [],
   "source": [
    "start, end = \"1938-01-01\", \"2020-01-01\""
   ]
  },
  {
   "cell_type": "code",
   "execution_count": null,
   "id": "19b996a9",
   "metadata": {},
   "outputs": [],
   "source": [
    "selected_data = full_data[full_data['date'].between(start, end)]"
   ]
  },
  {
   "cell_type": "markdown",
   "id": "0caec4aa",
   "metadata": {},
   "source": [
    "# Plot time Series"
   ]
  },
  {
   "cell_type": "code",
   "execution_count": null,
   "id": "eee46381",
   "metadata": {},
   "outputs": [],
   "source": [
    "def plot_time_series(df, date_col, var_col, ma_window=None):\n",
    "    # 1. Set up the plot\n",
    "    fig, ax = plt.subplots(figsize=(12, 6))\n",
    "\n",
    "    # 2. Plot using the new 'date' column for the x-axis\n",
    "    ax.plot(df[date_col], df[var_col], marker='o', linestyle='-')\n",
    "    # 3. Optionally plot moving average\n",
    "    if ma_window is not None and ma_window > 1:\n",
    "        ma_series = df[var_col].rolling(window=ma_window).mean()\n",
    "        ax.plot(df[date_col], ma_series, color='red', linewidth=2,\n",
    "                label=f'{ma_window}-period MA')\n",
    "        \n",
    "    # 3. Format the date axis for clarity ✨\n",
    "    # Set the major locator to find the start of each year\n",
    "    ax.xaxis.set_major_locator(mdates.YearLocator(base=5))\n",
    "    # Set the format of the major labels to show just the year (e.g., \"2023\")\n",
    "    ax.xaxis.set_major_formatter(mdates.DateFormatter('%Y'))\n",
    "\n",
    "    # To add ticks for every 3 months, you can use a minor locator\n",
    "    ax.xaxis.set_minor_locator(mdates.MonthLocator(interval=6))\n",
    "\n",
    "    # 4. Add labels and a grid\n",
    "    ax.set_title(var_col)\n",
    "    ax.set_xlabel('Date')\n",
    "    ax.set_ylabel('Value')\n",
    "    ax.grid(True, which='major', alpha=0.6)\n",
    "    ax.grid(True, which='minor', alpha=0.2)\n",
    "\n",
    "    plt.tight_layout()\n",
    "    plt.show()\n"
   ]
  },
  {
   "cell_type": "code",
   "execution_count": null,
   "id": "fb6a71cb",
   "metadata": {},
   "outputs": [],
   "source": [
    "plot_time_series(selected_data, 'date', 'tmed', ma_window=12)"
   ]
  },
  {
   "cell_type": "code",
   "execution_count": null,
   "id": "7c6ca77d",
   "metadata": {},
   "outputs": [],
   "source": [
    "plot_time_series(selected_data, 'date', 'tmax', ma_window=12)"
   ]
  },
  {
   "cell_type": "code",
   "execution_count": null,
   "id": "02cc3754",
   "metadata": {},
   "outputs": [],
   "source": [
    "plot_time_series(selected_data, 'date', 'tmin', ma_window=12)"
   ]
  },
  {
   "cell_type": "code",
   "execution_count": null,
   "id": "73e22c33",
   "metadata": {},
   "outputs": [],
   "source": [
    "plot_time_series(selected_data, 'date', 'tdiff', ma_window=12)"
   ]
  },
  {
   "cell_type": "code",
   "execution_count": null,
   "id": "fa1d6767",
   "metadata": {},
   "outputs": [],
   "source": [
    "tdiff_year = []\n",
    "for year in full_data['year'].unique():\n",
    "    date = full_data[full_data['year'] == year]['date'].min()\n",
    "    tdiff_year.append({\n",
    "        \"date\": date,\n",
    "        \"tdiff\": full_data[full_data['year'] == year]['tmax'].max() - full_data[full_data['year'] == year]['tmin'].min()\n",
    "    }) \n",
    "\n",
    "\n",
    "tdiff_year = pd.DataFrame.from_dict(tdiff_year)\n",
    "tdiff_year.head()"
   ]
  },
  {
   "cell_type": "code",
   "execution_count": null,
   "id": "64891d82",
   "metadata": {},
   "outputs": [],
   "source": [
    "plot_time_series(tdiff_year, 'date', 'tdiff', ma_window=12)"
   ]
  },
  {
   "cell_type": "code",
   "execution_count": null,
   "id": "ec5efcaf",
   "metadata": {},
   "outputs": [],
   "source": [
    "plot_time_series(selected_data, 'date', 'prec', ma_window=12)"
   ]
  },
  {
   "cell_type": "markdown",
   "id": "f65459dd",
   "metadata": {},
   "source": [
    "Initial Characteristics:\n",
    "\n",
    "* Seasonality is a given\n",
    "* Trends at least so far are hard to see with just the time series plots"
   ]
  },
  {
   "cell_type": "code",
   "execution_count": null,
   "id": "cca366fa",
   "metadata": {},
   "outputs": [],
   "source": [
    "temp_data = selected_data[['date','year','month_str','tmin', 'tmed', 'tmax']]\n",
    "temp_data = temp_data.set_index('date')"
   ]
  },
  {
   "cell_type": "code",
   "execution_count": null,
   "id": "68bd6253",
   "metadata": {},
   "outputs": [],
   "source": [
    "fig, ax = plt.subplots(figsize=(16, 8))\n",
    "sm.graphics.tsa.month_plot(temp_data['tmed'], ylabel='tmed', ax=ax)\n",
    "ax.set_title(\"Seasonal Subseries Plot: Avg Temp\")\n",
    "ax.set_xlabel(\"Month\")\n",
    "plt.show()"
   ]
  },
  {
   "cell_type": "code",
   "execution_count": null,
   "id": "74d21f90",
   "metadata": {},
   "outputs": [],
   "source": [
    "sns.lineplot(data=temp_data, x='year', y='tmed', hue='month_str')\n",
    "plt.title('Monthly Plot: Tmed')\n",
    "plt.xlabel('Year')\n",
    "plt.ylabel('Tmed (C)')\n",
    "plt.legend(bbox_to_anchor=(1.05, 1), loc=2)\n",
    "plt.show()"
   ]
  },
  {
   "cell_type": "code",
   "execution_count": null,
   "id": "bb22536e",
   "metadata": {},
   "outputs": [],
   "source": [
    "sns.lineplot(data=temp_data, x='year', y='tmin', hue='month_str')\n",
    "plt.title('Monthly Plot: Tmin')\n",
    "plt.xlabel('Year')\n",
    "plt.ylabel('Tmin (C)')\n",
    "plt.legend(bbox_to_anchor=(1.05, 1), loc=2)\n",
    "plt.show()"
   ]
  },
  {
   "cell_type": "code",
   "execution_count": null,
   "id": "29177fbb",
   "metadata": {},
   "outputs": [],
   "source": [
    "sns.lineplot(data=temp_data, x='year', y='tmax', hue='month_str')\n",
    "plt.title('Monthly Plot: Tmax')\n",
    "plt.xlabel('Year')\n",
    "plt.ylabel('Tmax (C)')\n",
    "plt.legend(bbox_to_anchor=(1.05, 1), loc=2)\n",
    "plt.show()"
   ]
  },
  {
   "cell_type": "code",
   "execution_count": null,
   "id": "52acc2d5",
   "metadata": {},
   "outputs": [],
   "source": [
    "def lag_plot_grid(ts, lags=12, title=\"Lag Plots\"):\n",
    "    \"\"\"Create grid of lag plots\"\"\"\n",
    "    fig, axes = plt.subplots(3, 4, figsize=(15, 10))\n",
    "    fig.suptitle(title, fontsize=16)\n",
    "    \n",
    "    for i in range(lags):\n",
    "        row = i // 4\n",
    "        col = i % 4\n",
    "        \n",
    "        # Create lagged series\n",
    "        lagged = ts.shift(i+1)\n",
    "        \n",
    "        # Remove NaN values\n",
    "        mask = ~(np.isnan(ts) | np.isnan(lagged))\n",
    "        x = ts[mask]\n",
    "        y = lagged[mask]\n",
    "        \n",
    "        # Scatter plot\n",
    "        axes[row, col].scatter(y, x, alpha=0.9, s=10, color=\"steelblue\", edgecolor=\"black\")\n",
    "        axes[row, col].set_title(f'Lag {i+1}')\n",
    "        axes[row, col].set_ylabel('X(t)')\n",
    "        axes[row, col].set_xlabel(f'X(t-{i+1})')\n",
    "        axes[row, col].grid(True, alpha=0.3)\n",
    "\n",
    "        # Compute correlation\n",
    "        corr = np.corrcoef(y, x)[0, 1]\n",
    "        axes[row, col].text(\n",
    "            0.05, 0.95,\n",
    "            f\"r = {corr:.3f}\",\n",
    "            transform=axes[row, col].transAxes,\n",
    "            fontsize=12,\n",
    "            verticalalignment=\"top\",\n",
    "            bbox=dict(boxstyle=\"round,pad=0.3\", facecolor=\"white\", alpha=0.5)\n",
    "        )\n",
    "\n",
    "        # Fit LOWESS\n",
    "        smoothed = lowess(x, y, frac=0.3)  # frac controls smoothing\n",
    "        axes[row, col].plot(smoothed[:,0], smoothed[:,1], color=\"red\", linewidth=1.5)\n",
    "\n",
    "    plt.tight_layout()\n",
    "    plt.show()\n"
   ]
  },
  {
   "cell_type": "code",
   "execution_count": null,
   "id": "5cbe158e",
   "metadata": {},
   "outputs": [],
   "source": [
    "temp_data['tmax'].head()"
   ]
  },
  {
   "cell_type": "code",
   "execution_count": null,
   "id": "02bd01e0",
   "metadata": {},
   "outputs": [],
   "source": [
    "lag_plot_grid(temp_data['tmed'])"
   ]
  },
  {
   "cell_type": "code",
   "execution_count": null,
   "id": "a7a69f7e",
   "metadata": {},
   "outputs": [],
   "source": []
  }
 ],
 "metadata": {
  "kernelspec": {
   "display_name": "python_env",
   "language": "python",
   "name": "python3"
  },
  "language_info": {
   "codemirror_mode": {
    "name": "ipython",
    "version": 3
   },
   "file_extension": ".py",
   "mimetype": "text/x-python",
   "name": "python",
   "nbconvert_exporter": "python",
   "pygments_lexer": "ipython3",
   "version": "3.12.3"
  }
 },
 "nbformat": 4,
 "nbformat_minor": 5
}
