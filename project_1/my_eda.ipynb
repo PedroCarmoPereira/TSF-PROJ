{
 "cells": [
  {
   "cell_type": "code",
   "execution_count": null,
   "id": "c5a74573",
   "metadata": {},
   "outputs": [],
   "source": [
    "import pandas as pd\n",
    "import numpy as np\n",
    "import matplotlib.pyplot as plt\n",
    "import matplotlib.dates as mdates\n",
    "import statsmodels.api as sm\n",
    "import seaborn as sns\n",
    "import os\n",
    "from statsmodels.nonparametric.smoothers_lowess import lowess\n",
    "from scipy.stats import boxcox "
   ]
  },
  {
   "cell_type": "markdown",
   "id": "4f8e9cec",
   "metadata": {},
   "source": [
    "# Load & Process Data"
   ]
  },
  {
   "cell_type": "code",
   "execution_count": null,
   "id": "24a9a553",
   "metadata": {},
   "outputs": [],
   "source": [
    "prec_data = pd.read_csv(os.path.join('data', 'prec-Mainland-raw.csv'))\n",
    "prec_data = prec_data.melt(id_vars=[\"year\"], var_name=\"month_str\", value_name=\"prec\")\n",
    "prec_data.head()\n",
    "\n",
    "month_map = {'Jan':1, 'Feb':2, 'Mar':3, 'Apr':4, 'May':5, 'Jun':6,\n",
    "             'Jul':7, 'Aug':8, 'Sep':9, 'Oct':10, 'Nov':11, 'Dec':12}\n",
    "\n",
    "prec_data[\"month\"] = prec_data[\"month_str\"].map(month_map)\n",
    "\n",
    "# Build datetime column (use first day of month as convention)\n",
    "prec_data[\"date\"] = pd.to_datetime(dict(year=prec_data[\"year\"], \n",
    "                                       month=prec_data[\"month\"], \n",
    "                                       day=1))\n",
    "prec_data.head()"
   ]
  },
  {
   "cell_type": "code",
   "execution_count": null,
   "id": "3d8726e0",
   "metadata": {},
   "outputs": [],
   "source": [
    "inverse_month_map = {v:k for k,v in month_map.items()}\n",
    "inverse_month_map"
   ]
  },
  {
   "cell_type": "code",
   "execution_count": null,
   "id": "f53fda76",
   "metadata": {},
   "outputs": [],
   "source": [
    "# Taken from https://www.ipma.pt/en/oclima/series.longas/?loc=Mainland&type=raw\n",
    "temp_data = pd.read_csv(os.path.join('data', 'temp-Mainland-raw.csv'))\n",
    "temp_data['month'] = temp_data['date'].str.extract(r'([0-9]{2})')\n",
    "temp_data['year'] = temp_data['date'].str.extract(r'([0-9]{4})')\n",
    "temp_data['month'] = pd.to_numeric(temp_data['month'])\n",
    "temp_data['year'] = pd.to_numeric(temp_data['year'])\n",
    "temp_data['date'] = pd.to_datetime(temp_data['date'], format='%m/%Y')\n",
    "temp_data.head()"
   ]
  },
  {
   "cell_type": "code",
   "execution_count": null,
   "id": "96a96b25",
   "metadata": {},
   "outputs": [],
   "source": [
    "full_data = pd.merge(temp_data, prec_data[[\"date\", \"prec\"]], \n",
    "                  on=\"date\", how=\"inner\")\n",
    "full_data['month_str'] = full_data['month'].map(inverse_month_map)\n",
    "\n",
    "full_data['tdiff'] = full_data['tmax'] - full_data['tmin']\n",
    "\n",
    "full_data.head()"
   ]
  },
  {
   "cell_type": "code",
   "execution_count": null,
   "id": "eb82446a",
   "metadata": {},
   "outputs": [],
   "source": [
    "start, end = \"1995-01-01\", \"2020-01-01\""
   ]
  },
  {
   "cell_type": "code",
   "execution_count": null,
   "id": "19b996a9",
   "metadata": {},
   "outputs": [],
   "source": [
    "selected_data = full_data[full_data['date'].between(start, end)]"
   ]
  },
  {
   "cell_type": "markdown",
   "id": "0caec4aa",
   "metadata": {},
   "source": [
    "# Plot time Series"
   ]
  },
  {
   "cell_type": "code",
   "execution_count": null,
   "id": "eee46381",
   "metadata": {},
   "outputs": [],
   "source": [
    "def plot_time_series(df, date_col, var_col, ma_window=None):\n",
    "    # 1. Set up the plot\n",
    "    fig, ax = plt.subplots(figsize=(12, 6))\n",
    "\n",
    "    # 2. Plot using the new 'date' column for the x-axis\n",
    "    ax.plot(df[date_col], df[var_col], marker='o', linestyle='-')\n",
    "    # 3. Optionally plot moving average\n",
    "    if ma_window is not None and ma_window > 1:\n",
    "        ma_series = df[var_col].rolling(window=ma_window).mean()\n",
    "        ax.plot(df[date_col], ma_series, color='red', linewidth=2,\n",
    "                label=f'{ma_window}-period MA')\n",
    "        \n",
    "    # 3. Format the date axis for clarity ✨\n",
    "    # Set the major locator to find the start of each year\n",
    "    ax.xaxis.set_major_locator(mdates.YearLocator(base=5))\n",
    "    # Set the format of the major labels to show just the year (e.g., \"2023\")\n",
    "    ax.xaxis.set_major_formatter(mdates.DateFormatter('%Y'))\n",
    "\n",
    "    # To add ticks for every 3 months, you can use a minor locator\n",
    "    ax.xaxis.set_minor_locator(mdates.MonthLocator(interval=6))\n",
    "\n",
    "    # 4. Add labels and a grid\n",
    "    ax.set_title(var_col)\n",
    "    ax.set_xlabel('Date')\n",
    "    ax.set_ylabel('Value')\n",
    "    ax.grid(True, which='major', alpha=0.6)\n",
    "    ax.grid(True, which='minor', alpha=0.2)\n",
    "\n",
    "    plt.tight_layout()\n",
    "    plt.show()\n"
   ]
  },
  {
   "cell_type": "code",
   "execution_count": null,
   "id": "fb6a71cb",
   "metadata": {},
   "outputs": [],
   "source": [
    "plot_time_series(selected_data, 'date', 'tmed', ma_window=12)"
   ]
  },
  {
   "cell_type": "code",
   "execution_count": null,
   "id": "7c6ca77d",
   "metadata": {},
   "outputs": [],
   "source": [
    "plot_time_series(selected_data, 'date', 'tmax', ma_window=12)"
   ]
  },
  {
   "cell_type": "code",
   "execution_count": null,
   "id": "02cc3754",
   "metadata": {},
   "outputs": [],
   "source": [
    "plot_time_series(selected_data, 'date', 'tmin', ma_window=12)"
   ]
  },
  {
   "cell_type": "code",
   "execution_count": null,
   "id": "dece5b1d",
   "metadata": {},
   "outputs": [],
   "source": [
    "plot_time_series(selected_data, 'date', 'prec', ma_window=12)"
   ]
  },
  {
   "cell_type": "markdown",
   "id": "e8dddb6c",
   "metadata": {},
   "source": [
    "# Feature Engineering"
   ]
  },
  {
   "cell_type": "code",
   "execution_count": null,
   "id": "db56747c",
   "metadata": {},
   "outputs": [],
   "source": [
    "selected_data.head()"
   ]
  },
  {
   "cell_type": "code",
   "execution_count": null,
   "id": "fa1d6767",
   "metadata": {},
   "outputs": [],
   "source": [
    "diff_month = (selected_data.groupby(['year', 'month']).apply(lambda g: pd.Series({\n",
    "        'date': g['date'].min(),\n",
    "        'tdiff': g['tmax'].max() - g['tmin'].min()\n",
    "    }))).reset_index(drop=True)\n",
    "\n",
    "diff_month['date_str'] = [str(date) for date in diff_month['date']]\n",
    "diff_month['month'] = diff_month['date_str'].str.extract(r'\\-([0-9]{2})\\-')\n",
    "diff_month['year'] = diff_month['date_str'].str.extract(r'([0-9]{4})')\n",
    "diff_month['month'] = pd.to_numeric(diff_month['month'])\n",
    "diff_month['year'] = pd.to_numeric(diff_month['year'])"
   ]
  },
  {
   "cell_type": "code",
   "execution_count": null,
   "id": "491900f9",
   "metadata": {},
   "outputs": [],
   "source": [
    "diff_month"
   ]
  },
  {
   "cell_type": "markdown",
   "id": "6298dd8b",
   "metadata": {},
   "source": [
    "# Exploring new Feature"
   ]
  },
  {
   "cell_type": "code",
   "execution_count": null,
   "id": "556d7048",
   "metadata": {},
   "outputs": [],
   "source": [
    "plot_time_series(diff_month, 'date', 'tdiff', ma_window=12)"
   ]
  },
  {
   "cell_type": "markdown",
   "id": "91690f65",
   "metadata": {},
   "source": [
    "## Log Feat"
   ]
  },
  {
   "cell_type": "code",
   "execution_count": null,
   "id": "01efec2c",
   "metadata": {},
   "outputs": [],
   "source": [
    "diff_month['log_diff'] = np.log(diff_month['tdiff'])"
   ]
  },
  {
   "cell_type": "code",
   "execution_count": null,
   "id": "f71c539d",
   "metadata": {},
   "outputs": [],
   "source": [
    "plot_time_series(diff_month, 'date', 'log_diff', ma_window=12)"
   ]
  },
  {
   "cell_type": "markdown",
   "id": "97c84421",
   "metadata": {},
   "source": [
    "## Seasonal Plot"
   ]
  },
  {
   "cell_type": "code",
   "execution_count": null,
   "id": "9a21aba5",
   "metadata": {},
   "outputs": [],
   "source": [
    "temp_data = diff_month[['date','year','month', 'tdiff', 'log_diff']]\n",
    "temp_data = temp_data.set_index('date')"
   ]
  },
  {
   "cell_type": "code",
   "execution_count": null,
   "id": "bf1874bb",
   "metadata": {},
   "outputs": [],
   "source": [
    "def seasonal_plot(df, col, title):\n",
    "    _, ax = plt.subplots(figsize=(16, 8))\n",
    "    sm.graphics.tsa.month_plot(df[col], ylabel='col', ax=ax)\n",
    "    ax.set_title(title)\n",
    "    ax.set_xlabel(\"Month\")\n",
    "    plt.show()"
   ]
  },
  {
   "cell_type": "code",
   "execution_count": null,
   "id": "68bd6253",
   "metadata": {},
   "outputs": [],
   "source": [
    "seasonal_plot(temp_data, 'tdiff', \"Seasonal Subseries Plot: Temperature Range (Max - Min)\")"
   ]
  },
  {
   "cell_type": "code",
   "execution_count": null,
   "id": "b8ee9d0a",
   "metadata": {},
   "outputs": [],
   "source": [
    "seasonal_plot(temp_data, 'log_diff', \"Seasonal Subseries Plot: Log Temperature Range (Max - Min)\")"
   ]
  },
  {
   "cell_type": "markdown",
   "id": "d0f51dfd",
   "metadata": {},
   "source": [
    "## Box Cox"
   ]
  },
  {
   "cell_type": "code",
   "execution_count": null,
   "id": "6c295843",
   "metadata": {},
   "outputs": [],
   "source": [
    "bc, lambda_ = boxcox(temp_data['tdiff'])\n",
    "print(f\"Estimated Lambda: {lambda_}\")\n",
    "\n",
    "plot_time_series(pd.DataFrame.from_dict({\n",
    "    \"date\": list(temp_data.index),\n",
    "    \"box_cox\": bc\n",
    "}), 'date', 'box_cox', ma_window=12)"
   ]
  },
  {
   "cell_type": "code",
   "execution_count": null,
   "id": "579115f6",
   "metadata": {},
   "outputs": [],
   "source": [
    "bc, lambda_ = boxcox(temp_data['log_diff'])\n",
    "print(f\"Estimated Lambda: {lambda_}\")\n",
    "\n",
    "plot_time_series(pd.DataFrame.from_dict({\n",
    "    \"date\": list(temp_data.index),\n",
    "    \"box_cox\": bc\n",
    "}), 'date', 'box_cox', ma_window=12)"
   ]
  },
  {
   "cell_type": "markdown",
   "id": "6f2f065b",
   "metadata": {},
   "source": [
    "## Linear Regression"
   ]
  },
  {
   "cell_type": "code",
   "execution_count": null,
   "id": "ac61b076",
   "metadata": {},
   "outputs": [],
   "source": [
    "import statsmodels.formula.api as smf \n",
    "\n",
    "diff_month['time'] = diff_month['date'].dt.to_period('M').astype(int) \n",
    "\n",
    "# fir linear regression model\n",
    "fit = smf.ols(formula='tdiff ~ time', data=diff_month).fit()\n",
    "print(fit.summary())"
   ]
  },
  {
   "cell_type": "code",
   "execution_count": null,
   "id": "8f4562d3",
   "metadata": {},
   "outputs": [],
   "source": [
    "residuals = fit.resid\n",
    "# Resíduos: detrended time series\n",
    "plt.subplot(1, 1, 1)\n",
    "plt.plot(diff_month['date'], residuals, color='blue')\n",
    "plt.title(\"Temperature Range Detrended\")\n",
    "plt.ylabel(\"Residuals\")\n",
    "plt.xlabel(\"Time\")\n",
    "\n",
    "plt.show()"
   ]
  },
  {
   "cell_type": "code",
   "execution_count": null,
   "id": "68b2a68f",
   "metadata": {},
   "outputs": [],
   "source": [
    "import statsmodels.formula.api as smf \n",
    "\n",
    "diff_month['time'] = diff_month['date'].dt.to_period('M').astype(int) \n",
    "\n",
    "# fir linear regression model\n",
    "fit = smf.ols(formula='tdiff ~ time', data=diff_month).fit()\n",
    "print(fit.summary())\n",
    "\n",
    "residuals = fit.resid\n",
    "# Resíduos: detrended time series\n",
    "plt.subplot(1, 1, 1)\n",
    "plt.plot(diff_month['date'], residuals, color='blue')\n",
    "plt.title(\"Temperature Range Detrended\")\n",
    "plt.ylabel(\"Residuals\")\n",
    "plt.xlabel(\"Time\")\n",
    "\n",
    "plt.show()"
   ]
  },
  {
   "cell_type": "markdown",
   "id": "cc2f6b2e",
   "metadata": {},
   "source": [
    "## Difference Operator"
   ]
  },
  {
   "cell_type": "code",
   "execution_count": null,
   "id": "907d5c32",
   "metadata": {},
   "outputs": [],
   "source": [
    "tdiff_series = temp_data['tdiff']\n",
    "tdiff_diff = tdiff_series.diff(12)\n",
    "tdiff_diff"
   ]
  },
  {
   "cell_type": "code",
   "execution_count": null,
   "id": "5a5a9d65",
   "metadata": {},
   "outputs": [],
   "source": [
    "plt.plot(temp_data.index, tdiff_diff, color='#ff9900')\n",
    "plt.title(\"Temperature Range Differenced\")\n",
    "plt.ylabel(\"Temperature Range\")\n",
    "plt.xlabel(\"date\")"
   ]
  },
  {
   "cell_type": "code",
   "execution_count": null,
   "id": "ed2cc3af",
   "metadata": {},
   "outputs": [],
   "source": [
    "diff12 = tdiff_diff.to_frame()\n",
    "diff12['year_month'] = pd.to_datetime(diff12.index)\n",
    "diff12"
   ]
  },
  {
   "cell_type": "code",
   "execution_count": null,
   "id": "39aeaf84",
   "metadata": {},
   "outputs": [],
   "source": [
    "diff12 = tdiff_diff.to_frame()\n",
    "diff12['year_month'] = pd.to_datetime(diff12.index)\n",
    "\n",
    "x = diff12[['year_month','tdiff']]\n",
    "x = x.set_index('year_month')\n",
    "\n",
    "seasonal_plot(x, 'tdiff', \"Seasonal Plot: tdiff diff 12\")\n"
   ]
  },
  {
   "cell_type": "markdown",
   "id": "fef761f6",
   "metadata": {},
   "source": [
    "## STL Decomposition"
   ]
  },
  {
   "cell_type": "code",
   "execution_count": null,
   "id": "013846bc",
   "metadata": {},
   "outputs": [],
   "source": [
    "from statsmodels.tsa.seasonal import STL     ## to STL decomposition\n",
    "\n",
    "# STL with periodic seasonal component\n",
    "stl_1 = STL(temp_data['log_diff'], seasonal=len(temp_data), robust=True).fit()\n",
    "\n",
    "# STL with seasonal window of 13\n",
    "stl_2 = STL(temp_data['log_diff'], seasonal=13, robust=True).fit()"
   ]
  },
  {
   "cell_type": "code",
   "execution_count": null,
   "id": "0e99c406",
   "metadata": {},
   "outputs": [],
   "source": [
    "print(\"Periodic Season\")\n",
    "stl_1.plot()"
   ]
  },
  {
   "cell_type": "code",
   "execution_count": null,
   "id": "7ebdb9d1",
   "metadata": {},
   "outputs": [],
   "source": [
    "print(\"13 Season\")\n",
    "stl_2.plot()"
   ]
  },
  {
   "cell_type": "code",
   "execution_count": null,
   "id": "9dbc3ea6",
   "metadata": {},
   "outputs": [],
   "source": [
    "# STL with periodic seasonal component\n",
    "stl_1 = STL(temp_data['tdiff'], seasonal=len(temp_data), robust=False).fit()\n",
    "\n",
    "# STL with seasonal window of 13\n",
    "stl_2 = STL(temp_data['tdiff'], seasonal=13, robust=False).fit()\n",
    "\n",
    "stl_1.plot()\n",
    "stl_2.plot()"
   ]
  },
  {
   "cell_type": "code",
   "execution_count": null,
   "id": "43c3257f",
   "metadata": {},
   "outputs": [],
   "source": [
    "\n",
    "from statsmodels.stats.diagnostic import het_arch\n",
    "het_arch(stl_1.resid) # Not heteroskedascity"
   ]
  },
  {
   "cell_type": "markdown",
   "id": "e87a8da8",
   "metadata": {},
   "source": [
    "## Lag Plots"
   ]
  },
  {
   "cell_type": "code",
   "execution_count": null,
   "id": "7efecab7",
   "metadata": {},
   "outputs": [],
   "source": [
    "def lag_plot_grid(ts, lags=12, title=\"Lag Plots\"):\n",
    "    \"\"\"Create grid of lag plots\"\"\"\n",
    "    fig, axes = plt.subplots(3, 4, figsize=(15, 10))\n",
    "    fig.suptitle(title, fontsize=16)\n",
    "    \n",
    "    for i in range(lags):\n",
    "        row = i // 4\n",
    "        col = i % 4\n",
    "        \n",
    "        # Create lagged series\n",
    "        lagged = ts.shift(i+1)\n",
    "        \n",
    "        # Remove NaN values\n",
    "        mask = ~(np.isnan(ts) | np.isnan(lagged))\n",
    "        x = ts[mask]\n",
    "        y = lagged[mask]\n",
    "        \n",
    "        # Scatter plot\n",
    "        axes[row, col].scatter(y, x, alpha=0.9, s=10, color=\"steelblue\", edgecolor=\"black\")\n",
    "        axes[row, col].set_title(f'Lag {i+1}')\n",
    "        axes[row, col].set_ylabel('X(t)')\n",
    "        axes[row, col].set_xlabel(f'X(t-{i+1})')\n",
    "        axes[row, col].grid(True, alpha=0.3)\n",
    "\n",
    "        # Compute correlation\n",
    "        corr = np.corrcoef(y, x)[0, 1]\n",
    "        axes[row, col].text(\n",
    "            0.05, 0.95,\n",
    "            f\"r = {corr:.3f}\",\n",
    "            transform=axes[row, col].transAxes,\n",
    "            fontsize=12,\n",
    "            verticalalignment=\"top\",\n",
    "            bbox=dict(boxstyle=\"round,pad=0.3\", facecolor=\"white\", alpha=0.5)\n",
    "        )\n",
    "\n",
    "        # Fit LOWESS\n",
    "        smoothed = lowess(x, y, frac=0.3)  # frac controls smoothing\n",
    "        axes[row, col].plot(smoothed[:,0], smoothed[:,1], color=\"red\", linewidth=1.5)\n",
    "\n",
    "    plt.tight_layout()\n",
    "    plt.show()\n"
   ]
  },
  {
   "cell_type": "code",
   "execution_count": null,
   "id": "dd5ffb93",
   "metadata": {},
   "outputs": [],
   "source": [
    "lag_plot_grid(temp_data['tdiff'], title=\"Lag Plots: Tdiff\")\n",
    "lag_plot_grid(stl_1.resid, title=\"Lag Plots: Tdiff - Remainder\")"
   ]
  },
  {
   "cell_type": "code",
   "execution_count": null,
   "id": "4bc65900",
   "metadata": {},
   "outputs": [],
   "source": [
    "lag_plot_grid(temp_data['log_diff'], title=\"Lag Plots: Log Tdiff\")\n",
    "lag_plot_grid(stl_1.resid, title=\"Lag Plots: Log Tdiff - Remainder\")"
   ]
  },
  {
   "cell_type": "code",
   "execution_count": null,
   "id": "c1a5cc8a",
   "metadata": {},
   "outputs": [],
   "source": []
  }
 ],
 "metadata": {
  "kernelspec": {
   "display_name": "python_env",
   "language": "python",
   "name": "python3"
  },
  "language_info": {
   "codemirror_mode": {
    "name": "ipython",
    "version": 3
   },
   "file_extension": ".py",
   "mimetype": "text/x-python",
   "name": "python",
   "nbconvert_exporter": "python",
   "pygments_lexer": "ipython3",
   "version": "3.12.3"
  }
 },
 "nbformat": 4,
 "nbformat_minor": 5
}
